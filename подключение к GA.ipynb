{
 "cells": [
  {
   "cell_type": "code",
   "execution_count": 1,
   "id": "1110f957",
   "metadata": {},
   "outputs": [],
   "source": [
    "import argparse\n",
    "import sys\n",
    "import time\n",
    "from datetime import date, timedelta\n",
    "import os\n",
    "from datetime import datetime\n",
    "import numpy as np\n",
    "from google2pandas import GoogleAnalyticsQueryV4\n",
    "import pandas as pd\n",
    "import urllib\n",
    "from sqlalchemy import create_engine"
   ]
  },
  {
   "cell_type": "code",
   "execution_count": 2,
   "id": "7e94ba0f",
   "metadata": {},
   "outputs": [],
   "source": [
    "#Параметры для подключение к sql ХД\n",
    "params = urllib.parse.quote_plus(\"DRIVER={SQL Server};SERVER=***********;Database=USERDB;Trusted_Connection=yes;\")\n",
    "engine = create_engine(\"mssql+pyodbc:///?odbc_connect=%s\" % params)"
   ]
  },
  {
   "cell_type": "code",
   "execution_count": 3,
   "id": "168c9c6e",
   "metadata": {},
   "outputs": [],
   "source": [
    "#Параметры для GA\n",
    "SCOPES = ['https://www.googleapis.com/auth/analytics.readonly', 'https://www.googleapis.com/auth/drive', 'https://www.googleapis.com/auth/analytics']\n",
    "CLIENT_SECRETS_PATH = 'C://Users//kiril//ga_api//client_secret_sysuevks.json' # Path to client_secrets.json file.\n",
    "conn = GoogleAnalyticsQueryV4(\n",
    "                              secrets='C://Users//kiril//ga_api//token_for_ga_api.json'\n",
    "                             )"
   ]
  },
  {
   "cell_type": "code",
   "execution_count": null,
   "id": "246f98c6",
   "metadata": {},
   "outputs": [],
   "source": [
    "#Указываем в какой таймдельте нам нужны выгрузки, выгрузка для ДК\n",
    "max_date_query_dk = '''\n",
    "SELECT max(date) as max_date FROM USERDB.SYSV.ga_report_dk\n",
    "'''\n",
    "temp_max_date = pd.read_sql(max_date_query_dk, engine).max_date.iloc[0]\n",
    "max_date_dk = datetime.strptime(temp_max_date, '%Y-%m-%d')  + timedelta(days=1)\n",
    "current_date = date.today() - timedelta(days=1)\n",
    "dr_dk = pd.date_range(max_date_dk, current_date)"
   ]
  },
  {
   "cell_type": "code",
   "execution_count": 8,
   "id": "80cdfe38",
   "metadata": {},
   "outputs": [
    {
     "name": "stdout",
     "output_type": "stream",
     "text": [
      "2021-02-28 00:00:00\n",
      "2021-03-01 00:00:00\n",
      "2021-03-02 00:00:00\n",
      "2021-03-03 00:00:00\n",
      "2021-03-04 00:00:00\n",
      "2021-03-05 00:00:00\n"
     ]
    }
   ],
   "source": [
    "for i in dr_dk:\n",
    "    print(i)"
   ]
  },
  {
   "cell_type": "code",
   "execution_count": null,
   "id": "5b5c04ab",
   "metadata": {},
   "outputs": [],
   "source": [
    "%%time\n",
    "#vb - views+bounces\n",
    "base_data_for_vb_dk = []\n",
    "for i in dr_dk:\n",
    "    query_vb_dk = {\n",
    "        'reportRequests': [{\n",
    "            'viewId' : '169135929',\n",
    "\n",
    "            'dateRanges': [{\n",
    "                'startDate' : i.strftime('%Y-%m-%d'),\n",
    "                'endDate'   : i.strftime('%Y-%m-%d')}],\n",
    "\n",
    "            'dimensions' : [\n",
    "                {'name' : 'ga:date'},\n",
    "            {'name': 'ga:pagePath'}],\n",
    "\n",
    "            'metrics'   : [\n",
    "                {'expression' : 'ga:pageviews'},\n",
    "                {'expression': 'ga:bounces'}],\n",
    "\n",
    "            \"dimensionFilterClauses\": [\n",
    "                {'operator': 'AND',\n",
    "                 'filters': [\n",
    "                  {\"dimensionName\": 'ga:medium',\n",
    "                  \"not\": True,\n",
    "                  \"operator\": 'IN_LIST',\n",
    "                  \"expressions\": [\n",
    "                    'Display', 'OLV'\n",
    "                  ],\n",
    "                  \"caseSensitive\": False\n",
    "                }      \n",
    "                 ]\n",
    "\n",
    "        }]\n",
    "\n",
    "\n",
    "        }\n",
    "        ]}\n",
    "    df_vb_dk = conn.execute_query(query_vb_dk)\n",
    "    base_data_for_vb_dk.append(df_vb_dk)\n"
   ]
  },
  {
   "cell_type": "code",
   "execution_count": 8,
   "id": "49ecf50c",
   "metadata": {},
   "outputs": [],
   "source": [
    "vb_df_dk = pd.concat(base_data_for_vb_dk)"
   ]
  },
  {
   "cell_type": "code",
   "execution_count": 9,
   "id": "fa015d2e",
   "metadata": {},
   "outputs": [],
   "source": [
    "vb_df_dk['pageviews'] = vb_df_dk['pageviews'].astype('float')\n",
    "vb_df_dk['bounces'] = vb_df_dk['bounces'].astype('float')\n",
    "vb_df_dk['date'] = vb_df_dk['date'].apply(lambda x:datetime.strftime(x, \"%Y-%m-%d\"))\n",
    "vb_df_dk['date'] = vb_df_dk['date'].astype('str')"
   ]
  },
  {
   "cell_type": "code",
   "execution_count": 10,
   "id": "31b4131d",
   "metadata": {},
   "outputs": [],
   "source": [
    "vb_df_dk['pagePath'] = vb_df_dk['pagePath'].apply(lambda x: x.split('?')[0])\n",
    "vb_df_dk['pagePath'] = vb_df_dk['pagePath'].str.replace(',', '')\n",
    "vb_df_dk['pagePath'] = vb_df_dk['pagePath'].apply(lambda x: x if x.endswith('/') else x + '/')"
   ]
  },
  {
   "cell_type": "code",
   "execution_count": 11,
   "id": "4c429973",
   "metadata": {},
   "outputs": [],
   "source": [
    "vb_df_dk_clean = vb_df_dk.groupby(['pagePath', 'date'], as_index=False).agg({'pageviews':'sum','bounces':'sum'})"
   ]
  },
  {
   "cell_type": "code",
   "execution_count": null,
   "id": "4cc3effe",
   "metadata": {},
   "outputs": [],
   "source": [
    "%%time\n",
    "base_data_for_cr_dk = []\n",
    "for i in dr_dk:\n",
    "    query_conv_dk = {\n",
    "        'reportRequests': [{\n",
    "            'viewId' : '169135929',\n",
    "\n",
    "            'dateRanges': [{\n",
    "                'startDate' : i.strftime('%Y-%m-%d'),\n",
    "                'endDate'   : i.strftime('%Y-%m-%d')}],\n",
    "\n",
    "            'dimensions' : [\n",
    "                {'name' : 'ga:date'},\n",
    "            {'name': 'ga:goalCompletionLocation'}],\n",
    "\n",
    "            'metrics'   : [\n",
    "                {'expression' : 'ga:goal11Completions'}]\n",
    "\n",
    "        }]\n",
    "    }\n",
    "    temp_conv_df_dk = conn.execute_query(query_conv_dk)\n",
    "    base_data_for_cr_dk.append(temp_conv_df_dk)"
   ]
  },
  {
   "cell_type": "code",
   "execution_count": null,
   "id": "22ab2e7d",
   "metadata": {},
   "outputs": [],
   "source": [
    "conv_df_dk = pd.concat(base_data_for_cr_dk)"
   ]
  },
  {
   "cell_type": "code",
   "execution_count": null,
   "id": "7e1f4fa9",
   "metadata": {},
   "outputs": [],
   "source": []
  },
  {
   "cell_type": "code",
   "execution_count": null,
   "id": "7a5514d2",
   "metadata": {},
   "outputs": [],
   "source": [
    "conv_df_dk = conv_df_dk.rename(columns={'goalCompletionLocation':'pagePath', 'goal11Completions':'conversion'})\n",
    "conv_df_dk['conversion'] = conv_df_dk['conversion'].astype('float')\n",
    "conv_df_dk['date'] = conv_df_dk['date'].apply(lambda x:datetime.strftime(x, \"%Y-%m-%d\"))\n",
    "conv_df_dk['date'] = conv_df_dk['date'].astype('str')"
   ]
  },
  {
   "cell_type": "code",
   "execution_count": null,
   "id": "a5e33ab8",
   "metadata": {},
   "outputs": [],
   "source": [
    "conv_df_dk['pagePath'] = conv_df_dk['pagePath'].apply(lambda x: x.split('?')[0])\n",
    "conv_df_dk['pagePath'] = conv_df_dk['pagePath'].str.replace(',', '')\n",
    "conv_df_dk['pagePath'] = conv_df_dk['pagePath'].apply(lambda x: x if x.endswith('/') else x + '/')"
   ]
  },
  {
   "cell_type": "code",
   "execution_count": null,
   "id": "7a2cf9cb",
   "metadata": {},
   "outputs": [],
   "source": [
    "conv_df_dk_clean = conv_df_dk.groupby(['date', 'pagePath'], as_index=False).conversion.sum()"
   ]
  },
  {
   "cell_type": "code",
   "execution_count": null,
   "id": "4d3cf14b",
   "metadata": {},
   "outputs": [],
   "source": [
    "dk_df_for_deploy = vb_df_dk_clean.merge(conv_df_dk_clean, how='left', on=['date', 'pagePath']).sort_values(by='pageviews', ascending=False)"
   ]
  },
  {
   "cell_type": "code",
   "execution_count": null,
   "id": "dfb7dfcc",
   "metadata": {},
   "outputs": [],
   "source": [
    "with engine.begin() as connection:\n",
    "    dk_df_for_deploy.to_sql(\"ga_report_dk\", connection, schema=\"SYSV\", if_exists='append', index=False, chunksize=30, method='multi') "
   ]
  },
  {
   "cell_type": "code",
   "execution_count": null,
   "id": "d8f81c61",
   "metadata": {},
   "outputs": [],
   "source": [
    "#Указываем в какой таймдельте нам нужны выгрузки, выгрузка для Халвы\n",
    "max_date_query_halva = '''\n",
    "SELECT max(date) as max_date FROM USERDB.SYSV.ga_report_halva\n",
    "'''\n",
    "temp_max_date = pd.read_sql(max_date_query_halva, engine).max_date.iloc[0]\n",
    "max_date_halva = datetime.strptime(temp_max_date, '%Y-%m-%d') + timedelta(days=1)\n",
    "current_date = date.today() - timedelta(days=1)\n",
    "dr_halva = pd.date_range(max_date_halva, current_date)"
   ]
  },
  {
   "cell_type": "code",
   "execution_count": null,
   "id": "b50f8bf9",
   "metadata": {},
   "outputs": [],
   "source": [
    "for i in dr_halva:\n",
    "    print(i)"
   ]
  },
  {
   "cell_type": "code",
   "execution_count": null,
   "id": "826285e9",
   "metadata": {},
   "outputs": [],
   "source": [
    "%%time\n",
    "#vb - views+bounces\n",
    "base_data_for_vb_halva = []\n",
    "for i in dr_halva:\n",
    "    query_vb_halva = {\n",
    "        'reportRequests': [{\n",
    "            'viewId' : '138955743',\n",
    "\n",
    "            'dateRanges': [{\n",
    "                'startDate' : i.strftime('%Y-%m-%d'),\n",
    "                'endDate'   : i.strftime('%Y-%m-%d')}],\n",
    "\n",
    "            'dimensions' : [\n",
    "                {'name' : 'ga:date'},\n",
    "            {'name': 'ga:pagePath'}],\n",
    "\n",
    "            'metrics'   : [\n",
    "                {'expression' : 'ga:pageviews'},\n",
    "                {'expression': 'ga:bounces'}],\n",
    "\n",
    "            \"dimensionFilterClauses\": [\n",
    "                {'operator': 'AND',\n",
    "                 'filters': [\n",
    "                  {\"dimensionName\": 'ga:medium',\n",
    "                  \"not\": True,\n",
    "                  \"operator\": 'IN_LIST',\n",
    "                  \"expressions\": [\n",
    "                    'Display', 'OLV'\n",
    "                  ],\n",
    "                  \"caseSensitive\": False\n",
    "                }      \n",
    "                 ]\n",
    "\n",
    "        }]\n",
    "\n",
    "\n",
    "        }\n",
    "        ]}\n",
    "    df_vb_halva = conn.execute_query(query_vb_halva)\n",
    "    base_data_for_vb_halva.append(df_vb_halva)"
   ]
  },
  {
   "cell_type": "code",
   "execution_count": null,
   "id": "e5889e89",
   "metadata": {},
   "outputs": [],
   "source": []
  },
  {
   "cell_type": "code",
   "execution_count": null,
   "id": "94a4df8e",
   "metadata": {},
   "outputs": [],
   "source": [
    "# %%time\n",
    "# #vb - views+bounces\n",
    "# base_data_for_vb_halva = []\n",
    "# for i in dr_halva:\n",
    "#     query_vb_halva = {\n",
    "#     'reportRequests': [{\n",
    "#         'viewId' : '138955743',\n",
    "\n",
    "#         'dateRanges': [{\n",
    "#             'startDate' : i.strftime('%Y-%m-%d'),\n",
    "#             'endDate'   : i.strftime('%Y-%m-%d')}],\n",
    "\n",
    "#         'dimensions' : [\n",
    "#             {'name' : 'ga:date'},\n",
    "#         {'name': 'ga:pagePath'}],\n",
    "\n",
    "#         'metrics'   : [\n",
    "#             {'expression' : 'ga:pageviews'},\n",
    "#             {'expression': 'ga:bounces'}]\n",
    "        \n",
    "#     }]\n",
    "#     }\n",
    "#     df_vb_halva = conn.execute_query(query_vb_halva)\n",
    "#     base_data_for_vb_halva.append(df_vb_halva)"
   ]
  },
  {
   "cell_type": "code",
   "execution_count": null,
   "id": "4b9544f6",
   "metadata": {},
   "outputs": [],
   "source": [
    "vb_df_halva = pd.concat(base_data_for_vb_halva)"
   ]
  },
  {
   "cell_type": "code",
   "execution_count": null,
   "id": "96f9cc95",
   "metadata": {},
   "outputs": [],
   "source": [
    "vb_df_halva['pageviews'] = vb_df_halva['pageviews'].astype('float')\n",
    "vb_df_halva['bounces'] = vb_df_halva['bounces'].astype('float')\n",
    "vb_df_halva['date'] = vb_df_halva['date'].apply(lambda x:datetime.strftime(x, \"%Y-%m-%d\"))\n",
    "vb_df_halva['date'] = vb_df_halva['date'].astype('str')"
   ]
  },
  {
   "cell_type": "code",
   "execution_count": null,
   "id": "08003158",
   "metadata": {},
   "outputs": [],
   "source": [
    "vb_df_halva['pagePath'] = vb_df_halva['pagePath'].apply(lambda x: x.split('?')[0])\n",
    "vb_df_halva['pagePath'] = vb_df_halva['pagePath'].str.replace(',', '')\n",
    "vb_df_halva['pagePath'] = vb_df_halva['pagePath'].apply(lambda x: x if x.endswith('/') else x + '/')"
   ]
  },
  {
   "cell_type": "code",
   "execution_count": null,
   "id": "7485cf0d",
   "metadata": {},
   "outputs": [],
   "source": [
    "vb_df_halva_clean = vb_df_halva.groupby(['pagePath', 'date'], as_index=False).agg({'pageviews':'sum','bounces':'sum'})"
   ]
  },
  {
   "cell_type": "code",
   "execution_count": null,
   "id": "c99fcb08",
   "metadata": {},
   "outputs": [],
   "source": [
    "%%time\n",
    "base_data_for_conv_halva = []\n",
    "for i in dr_halva:\n",
    "    query_conv_halva = {\n",
    "        'reportRequests': [{\n",
    "            'viewId' : '138955743',\n",
    "\n",
    "            'dateRanges': [{\n",
    "                'startDate' :  i.strftime('%Y-%m-%d'),\n",
    "                'endDate'   :  i.strftime('%Y-%m-%d')}],\n",
    "\n",
    "            'dimensions' : [\n",
    "                {'name' : 'ga:date'},\n",
    "            {'name': 'ga:goalCompletionLocation'}],\n",
    "\n",
    "            'metrics'   : [\n",
    "                {'expression' : 'ga:goal5Completions'}]\n",
    "\n",
    "        }]\n",
    "    }\n",
    "    temp_conv_df_halva = conn.execute_query(query_conv_halva)\n",
    "    base_data_for_conv_halva.append(temp_conv_df_halva)"
   ]
  },
  {
   "cell_type": "code",
   "execution_count": null,
   "id": "249964ad",
   "metadata": {},
   "outputs": [],
   "source": []
  },
  {
   "cell_type": "code",
   "execution_count": null,
   "id": "effa134d",
   "metadata": {},
   "outputs": [],
   "source": [
    "conv_df_halva = pd.concat(base_data_for_conv_halva)"
   ]
  },
  {
   "cell_type": "code",
   "execution_count": null,
   "id": "36dbf0e4",
   "metadata": {},
   "outputs": [],
   "source": [
    "conv_df_halva = conv_df_halva.rename(columns={'goalCompletionLocation':'pagePath', 'goal5Completions':'conversion'})\n",
    "conv_df_halva['conversion'] = conv_df_halva['conversion'].astype('float')\n",
    "conv_df_halva['date'] = conv_df_halva['date'].apply(lambda x:datetime.strftime(x, \"%Y-%m-%d\"))\n",
    "conv_df_halva['date'] = conv_df_halva['date'].astype('str')"
   ]
  },
  {
   "cell_type": "code",
   "execution_count": null,
   "id": "f087ac8f",
   "metadata": {},
   "outputs": [],
   "source": [
    "conv_df_halva['pagePath'] = conv_df_halva['pagePath'].apply(lambda x: x.split('?')[0])\n",
    "conv_df_halva['pagePath'] = conv_df_halva['pagePath'].str.replace(',', '')\n",
    "conv_df_halva['pagePath'] = conv_df_halva['pagePath'].apply(lambda x: x if x.endswith('/') else x + '/')"
   ]
  },
  {
   "cell_type": "code",
   "execution_count": null,
   "id": "d3edec9b",
   "metadata": {},
   "outputs": [],
   "source": [
    "conv_df_halva_clean = conv_df_halva.groupby(['date', 'pagePath'], as_index=False).conversion.sum()"
   ]
  },
  {
   "cell_type": "code",
   "execution_count": null,
   "id": "79e48c82",
   "metadata": {},
   "outputs": [],
   "source": [
    "halva_df_for_deploy = vb_df_halva_clean.merge(conv_df_halva_clean, how='left', on=['date', 'pagePath']).sort_values(by='pageviews', ascending=False)"
   ]
  },
  {
   "cell_type": "code",
   "execution_count": null,
   "id": "d0b40215",
   "metadata": {},
   "outputs": [],
   "source": [
    "%%time\n",
    "with engine.begin() as connection:\n",
    "    halva_df_for_deploy.to_sql(\"ga_report_halva\", connection, schema=\"SYSV\", if_exists='append', index=False, chunksize=30, method='multi') "
   ]
  }
 ],
 "metadata": {
  "kernelspec": {
   "display_name": "Python 3 (ipykernel)",
   "language": "python",
   "name": "python3"
  },
  "language_info": {
   "codemirror_mode": {
    "name": "ipython",
    "version": 3
   },
   "file_extension": ".py",
   "mimetype": "text/x-python",
   "name": "python",
   "nbconvert_exporter": "python",
   "pygments_lexer": "ipython3",
   "version": "3.9.7"
  }
 },
 "nbformat": 4,
 "nbformat_minor": 5
}
